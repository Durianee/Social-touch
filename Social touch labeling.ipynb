{
 "cells": [
  {
   "cell_type": "markdown",
   "metadata": {},
   "source": [
    "download model "
   ]
  },
  {
   "cell_type": "code",
   "execution_count": 6,
   "metadata": {},
   "outputs": [
    {
     "name": "stdout",
     "output_type": "stream",
     "text": [
      "Downloaded moments_v2_RGB_resnet50_imagenetpretrained.pth.tar successfully.\n",
      "Downloaded moments_v2_RGB_imagenet_resnet3d50_segment16.pth.tar successfully.\n",
      "Downloaded multi_moments_v2_RGB_imagenet_resnet3d50_segment16.pth.tar successfully.\n"
     ]
    }
   ],
   "source": [
    "import requests\n",
    "import os\n",
    "\n",
    "ROOT_URL = 'http://moments.csail.mit.edu/moments_models'\n",
    "weights = {\n",
    "    'resnet50': 'moments_v2_RGB_resnet50_imagenetpretrained.pth.tar',\n",
    "    'resnet3d50': 'moments_v2_RGB_imagenet_resnet3d50_segment16.pth.tar',\n",
    "    'multi_resnet3d50': 'multi_moments_v2_RGB_imagenet_resnet3d50_segment16.pth.tar',\n",
    "}\n",
    "\n",
    "def download_model_files(root_url, weights_dict, download_dir):\n",
    "    os.makedirs(download_dir, exist_ok=True)  # Ensure directory exists\n",
    "    for key, filename in weights_dict.items():\n",
    "        file_path = os.path.join(download_dir, filename)  # Full path to save the file\n",
    "        url = f\"{root_url}/{filename}\"\n",
    "        response = requests.get(url, stream=True)\n",
    "        if response.status_code == 200:\n",
    "            with open(file_path, 'wb') as f:\n",
    "                for chunk in response.iter_content(chunk_size=1024):\n",
    "                    if chunk:  # filter out keep-alive new chunks\n",
    "                        f.write(chunk)\n",
    "            print(f\"Downloaded {filename} successfully.\")\n",
    "        else:\n",
    "            print(f\"Failed to download {filename}. Status code: {response.status_code}\")\n",
    "\n",
    "# Specify a directory within your home directory for example\n",
    "home_dir = os.path.expanduser('~')\n",
    "download_dir = os.path.join(home_dir, 'downloaded_models')\n",
    "\n",
    "# Call the function to download the model files\n",
    "download_model_files(ROOT_URL, weights, download_dir)\n"
   ]
  },
  {
   "cell_type": "markdown",
   "metadata": {},
   "source": [
    "locate the model path"
   ]
  },
  {
   "cell_type": "code",
   "execution_count": 49,
   "metadata": {},
   "outputs": [
    {
     "name": "stdout",
     "output_type": "stream",
     "text": [
      "Searching for moments_v2_RGB_resnet50_imagenetpretrained.pth.tar in /\n",
      "/System/Volumes/Data/Users/wangjiji/moments_models/moments_v2_RGB_resnet50_imagenetpretrained.pth.tar\n",
      "/System/Volumes/Data/Users/wangjiji/downloaded_models/moments_v2_RGB_resnet50_imagenetpretrained.pth.tar\n",
      "/Users/wangjiji/moments_models/moments_v2_RGB_resnet50_imagenetpretrained.pth.tar\n",
      "/Users/wangjiji/downloaded_models/moments_v2_RGB_resnet50_imagenetpretrained.pth.tar\n",
      "Searching for moments_v2_RGB_imagenet_resnet3d50_segment16.pth.tar in /\n",
      "/System/Volumes/Data/Users/wangjiji/moments_models/moments_v2_RGB_imagenet_resnet3d50_segment16.pth.tar\n"
     ]
    },
    {
     "ename": "KeyboardInterrupt",
     "evalue": "",
     "output_type": "error",
     "traceback": [
      "\u001b[0;31m---------------------------------------------------------------------------\u001b[0m",
      "\u001b[0;31mKeyboardInterrupt\u001b[0m                         Traceback (most recent call last)",
      "Cell \u001b[0;32mIn[49], line 25\u001b[0m\n\u001b[1;32m     23\u001b[0m \u001b[38;5;28;01mfor\u001b[39;00m pattern \u001b[38;5;129;01min\u001b[39;00m patterns:\n\u001b[1;32m     24\u001b[0m     \u001b[38;5;28mprint\u001b[39m(\u001b[38;5;124mf\u001b[39m\u001b[38;5;124m\"\u001b[39m\u001b[38;5;124mSearching for \u001b[39m\u001b[38;5;132;01m{\u001b[39;00mpattern\u001b[38;5;132;01m}\u001b[39;00m\u001b[38;5;124m in \u001b[39m\u001b[38;5;132;01m{\u001b[39;00mstart_dir\u001b[38;5;132;01m}\u001b[39;00m\u001b[38;5;124m\"\u001b[39m)\n\u001b[0;32m---> 25\u001b[0m     find_files(start_dir, pattern)\n",
      "Cell \u001b[0;32mIn[49], line 8\u001b[0m, in \u001b[0;36mfind_files\u001b[0;34m(directory, pattern)\u001b[0m\n\u001b[1;32m      4\u001b[0m \u001b[38;5;28;01mdef\u001b[39;00m \u001b[38;5;21mfind_files\u001b[39m(directory, pattern):\n\u001b[1;32m      5\u001b[0m \u001b[38;5;250m    \u001b[39m\u001b[38;5;124;03m\"\"\"\u001b[39;00m\n\u001b[1;32m      6\u001b[0m \u001b[38;5;124;03m    Search recursively for files matching the given pattern.\u001b[39;00m\n\u001b[1;32m      7\u001b[0m \u001b[38;5;124;03m    \"\"\"\u001b[39;00m\n\u001b[0;32m----> 8\u001b[0m     \u001b[38;5;28;01mfor\u001b[39;00m root, dirs, files \u001b[38;5;129;01min\u001b[39;00m os\u001b[38;5;241m.\u001b[39mwalk(directory):\n\u001b[1;32m      9\u001b[0m         \u001b[38;5;28;01mfor\u001b[39;00m basename \u001b[38;5;129;01min\u001b[39;00m files:\n\u001b[1;32m     10\u001b[0m             \u001b[38;5;28;01mif\u001b[39;00m fnmatch\u001b[38;5;241m.\u001b[39mfnmatch(basename, pattern):\n",
      "File \u001b[0;32m<frozen os>:419\u001b[0m, in \u001b[0;36m_walk\u001b[0;34m(top, topdown, onerror, followlinks)\u001b[0m\n",
      "File \u001b[0;32m<frozen os>:419\u001b[0m, in \u001b[0;36m_walk\u001b[0;34m(top, topdown, onerror, followlinks)\u001b[0m\n",
      "    \u001b[0;31m[... skipping similar frames: _walk at line 419 (8 times)]\u001b[0m\n",
      "File \u001b[0;32m<frozen os>:419\u001b[0m, in \u001b[0;36m_walk\u001b[0;34m(top, topdown, onerror, followlinks)\u001b[0m\n",
      "File \u001b[0;32m<frozen os>:358\u001b[0m, in \u001b[0;36m_walk\u001b[0;34m(top, topdown, onerror, followlinks)\u001b[0m\n",
      "\u001b[0;31mKeyboardInterrupt\u001b[0m: "
     ]
    }
   ],
   "source": [
    "import os\n",
    "import fnmatch\n",
    "\n",
    "def find_files(directory, pattern):\n",
    "    \"\"\"\n",
    "    Search recursively for files matching the given pattern.\n",
    "    \"\"\"\n",
    "    for root, dirs, files in os.walk(directory):\n",
    "        for basename in files:\n",
    "            if fnmatch.fnmatch(basename, pattern):\n",
    "                filename = os.path.join(root, basename)\n",
    "                print(filename)\n",
    "\n",
    "# Specify the directory to start the search from, e.g., the home directory or the entire filesystem\n",
    "start_dir = '/'  # You can use '/' for entire filesystem on Unix or 'C:/' for Windows\n",
    "\n",
    "# Model filename patterns from the download section\n",
    "patterns = ['moments_v2_RGB_resnet50_imagenetpretrained.pth.tar', \n",
    "            'moments_v2_RGB_imagenet_resnet3d50_segment16.pth.tar', \n",
    "            'multi_moments_v2_RGB_imagenet_resnet3d50_segment16.pth.tar']\n",
    "\n",
    "# Search for each pattern\n",
    "for pattern in patterns:\n",
    "    print(f\"Searching for {pattern} in {start_dir}\")\n",
    "    find_files(start_dir, pattern)\n"
   ]
  },
  {
   "cell_type": "markdown",
   "metadata": {},
   "source": [
    "label the video 2D model"
   ]
  },
  {
   "cell_type": "code",
   "execution_count": 70,
   "metadata": {},
   "outputs": [
    {
     "name": "stderr",
     "output_type": "stream",
     "text": [
      "Using cache found in /Users/wangjiji/.cache/torch/hub/pytorch_vision_v0.10.0\n",
      "/Users/wangjiji/anaconda3/lib/python3.11/site-packages/torchvision/models/_utils.py:208: UserWarning: The parameter 'pretrained' is deprecated since 0.13 and may be removed in the future, please use 'weights' instead.\n",
      "  warnings.warn(\n",
      "/Users/wangjiji/anaconda3/lib/python3.11/site-packages/torchvision/models/_utils.py:223: UserWarning: Arguments other than a weight enum or `None` for 'weights' are deprecated since 0.13 and may be removed in the future. The current behavior is equivalent to passing `weights=None`.\n",
      "  warnings.warn(msg)\n"
     ]
    },
    {
     "name": "stdout",
     "output_type": "stream",
     "text": [
      "File not found: /Users/wangjiji/Desktop/Social touch deep learning project/STMP4/006.mp4\n",
      "File not found: /Users/wangjiji/Desktop/Social touch deep learning project/STMP4/009.mp4\n",
      "File not found: /Users/wangjiji/Desktop/Social touch deep learning project/STMP4/021.mp4\n",
      "File not found: /Users/wangjiji/Desktop/Social touch deep learning project/STMP4/023.mp4\n",
      "File not found: /Users/wangjiji/Desktop/Social touch deep learning project/STMP4/031.mp4\n",
      "File not found: /Users/wangjiji/Desktop/Social touch deep learning project/STMP4/032.mp4\n",
      "File not found: /Users/wangjiji/Desktop/Social touch deep learning project/STMP4/034.mp4\n",
      "File not found: /Users/wangjiji/Desktop/Social touch deep learning project/STMP4/036.mp4\n",
      "File not found: /Users/wangjiji/Desktop/Social touch deep learning project/STMP4/040.mp4\n",
      "File not found: /Users/wangjiji/Desktop/Social touch deep learning project/STMP4/046.mp4\n",
      "File not found: /Users/wangjiji/Desktop/Social touch deep learning project/STMP4/053.mp4\n",
      "File not found: /Users/wangjiji/Desktop/Social touch deep learning project/STMP4/058.mp4\n"
     ]
    }
   ],
   "source": [
    "import os\n",
    "import cv2\n",
    "import torch\n",
    "import torchvision.transforms as transforms\n",
    "from torch.autograd import Variable\n",
    "import matplotlib.pyplot as plt\n",
    "import pandas as pd\n",
    "import numpy as np\n",
    "\n",
    "def load_model(model_path):\n",
    "    model = torch.hub.load('pytorch/vision:v0.10.0', 'resnet50', pretrained=False)\n",
    "    num_ftrs = model.fc.in_features\n",
    "    model.fc = torch.nn.Linear(num_ftrs, 305)\n",
    "    model.load_state_dict(torch.load(model_path)['state_dict'])\n",
    "    model.eval()\n",
    "    return model\n",
    "\n",
    "def load_labels(label_files):\n",
    "    labels = {}\n",
    "    current_index = 0\n",
    "    for file_path in label_files:\n",
    "        with open(file_path, 'r') as file:\n",
    "            for line in file:\n",
    "                labels[current_index] = line.strip()\n",
    "                current_index += 1\n",
    "    return labels\n",
    "\n",
    "transform = transforms.Compose([\n",
    "    transforms.ToPILImage(),\n",
    "    transforms.Resize((224, 224)),\n",
    "    transforms.ToTensor(),\n",
    "    transforms.Normalize(mean=[0.485, 0.456, 0.406], std=[0.229, 0.224, 0.225])\n",
    "])\n",
    "\n",
    "def label_video(video_path, model, labels):\n",
    "    predictions = []\n",
    "    cap = cv2.VideoCapture(video_path)\n",
    "    while cap.isOpened():\n",
    "        ret, frame = cap.read()\n",
    "        if not ret:\n",
    "            break\n",
    "        frame = transform(frame)\n",
    "        frame = frame.unsqueeze(0)\n",
    "        frame = Variable(frame)\n",
    "        with torch.no_grad():\n",
    "            outputs = model(frame)\n",
    "            _, predicted = torch.max(outputs.data, 1)\n",
    "            predicted_label = labels.get(predicted.item(), \"Unknown Label\")\n",
    "            predictions.append(predicted_label)\n",
    "    cap.release()\n",
    "    return predictions\n",
    "\n",
    "# Parameters\n",
    "model_path = '/System/Volumes/Data/Users/wangjiji/moments_models/moments_v2_RGB_resnet50_imagenetpretrained.pth.tar'\n",
    "label_files = [\n",
    "    '/Users/wangjiji/Desktop/moments_models-2/category_momentsv2.txt',\n",
    "    '/Users/wangjiji/Desktop/moments_models-2/category_multi_momentsv2.txt'\n",
    "]\n",
    "labels = load_labels(label_files)\n",
    "model = load_model(model_path)\n",
    "video_directory = '/Users/wangjiji/Desktop/Social touch deep learning project/STMP4/'\n",
    "video_files = [f\"{i:03}.mp4\" for i in range(1, 72)]  # Generate video filenames from 001.mp4 to 071.mp4\n",
    "\n",
    "# Process each video and collect results\n",
    "all_predictions = {}\n",
    "for video_file in video_files:\n",
    "    video_path = os.path.join(video_directory, video_file)\n",
    "    if os.path.exists(video_path):\n",
    "        predictions = label_video(video_path, model, labels)\n",
    "        all_predictions[video_file] = predictions\n",
    "    else:\n",
    "        print(f\"File not found: {video_path}\")\n",
    "\n",
    "# Example: Saving results to a CSV file\n",
    "df = pd.DataFrame.from_dict(all_predictions, orient='index')\n",
    "df.to_csv('/Users/wangjiji/Desktop/predictions2D.csv')\n",
    "\n"
   ]
  },
  {
   "cell_type": "markdown",
   "metadata": {},
   "source": [
    "label the video 3D model"
   ]
  },
  {
   "cell_type": "code",
   "execution_count": 73,
   "metadata": {},
   "outputs": [
    {
     "name": "stderr",
     "output_type": "stream",
     "text": [
      "Using cache found in /Users/wangjiji/.cache/torch/hub/pytorch_vision_v0.10.0\n"
     ]
    },
    {
     "ename": "RuntimeError",
     "evalue": "Error(s) in loading state_dict for ResNet:\n\tMissing key(s) in state_dict: \"fc.weight\", \"fc.bias\". \n\tUnexpected key(s) in state_dict: \"last_linear.weight\", \"last_linear.bias\". \n\tsize mismatch for conv1.weight: copying a param with shape torch.Size([64, 3, 7, 7, 7]) from checkpoint, the shape in current model is torch.Size([64, 3, 7, 7]).\n\tsize mismatch for layer1.0.conv1.weight: copying a param with shape torch.Size([64, 64, 1, 1, 1]) from checkpoint, the shape in current model is torch.Size([64, 64, 1, 1]).\n\tsize mismatch for layer1.0.conv2.weight: copying a param with shape torch.Size([64, 64, 3, 3, 3]) from checkpoint, the shape in current model is torch.Size([64, 64, 3, 3]).\n\tsize mismatch for layer1.0.conv3.weight: copying a param with shape torch.Size([256, 64, 1, 1, 1]) from checkpoint, the shape in current model is torch.Size([256, 64, 1, 1]).\n\tsize mismatch for layer1.0.downsample.0.weight: copying a param with shape torch.Size([256, 64, 1, 1, 1]) from checkpoint, the shape in current model is torch.Size([256, 64, 1, 1]).\n\tsize mismatch for layer1.1.conv1.weight: copying a param with shape torch.Size([64, 256, 1, 1, 1]) from checkpoint, the shape in current model is torch.Size([64, 256, 1, 1]).\n\tsize mismatch for layer1.1.conv2.weight: copying a param with shape torch.Size([64, 64, 3, 3, 3]) from checkpoint, the shape in current model is torch.Size([64, 64, 3, 3]).\n\tsize mismatch for layer1.1.conv3.weight: copying a param with shape torch.Size([256, 64, 1, 1, 1]) from checkpoint, the shape in current model is torch.Size([256, 64, 1, 1]).\n\tsize mismatch for layer1.2.conv1.weight: copying a param with shape torch.Size([64, 256, 1, 1, 1]) from checkpoint, the shape in current model is torch.Size([64, 256, 1, 1]).\n\tsize mismatch for layer1.2.conv2.weight: copying a param with shape torch.Size([64, 64, 3, 3, 3]) from checkpoint, the shape in current model is torch.Size([64, 64, 3, 3]).\n\tsize mismatch for layer1.2.conv3.weight: copying a param with shape torch.Size([256, 64, 1, 1, 1]) from checkpoint, the shape in current model is torch.Size([256, 64, 1, 1]).\n\tsize mismatch for layer2.0.conv1.weight: copying a param with shape torch.Size([128, 256, 1, 1, 1]) from checkpoint, the shape in current model is torch.Size([128, 256, 1, 1]).\n\tsize mismatch for layer2.0.conv2.weight: copying a param with shape torch.Size([128, 128, 3, 3, 3]) from checkpoint, the shape in current model is torch.Size([128, 128, 3, 3]).\n\tsize mismatch for layer2.0.conv3.weight: copying a param with shape torch.Size([512, 128, 1, 1, 1]) from checkpoint, the shape in current model is torch.Size([512, 128, 1, 1]).\n\tsize mismatch for layer2.0.downsample.0.weight: copying a param with shape torch.Size([512, 256, 1, 1, 1]) from checkpoint, the shape in current model is torch.Size([512, 256, 1, 1]).\n\tsize mismatch for layer2.1.conv1.weight: copying a param with shape torch.Size([128, 512, 1, 1, 1]) from checkpoint, the shape in current model is torch.Size([128, 512, 1, 1]).\n\tsize mismatch for layer2.1.conv2.weight: copying a param with shape torch.Size([128, 128, 3, 3, 3]) from checkpoint, the shape in current model is torch.Size([128, 128, 3, 3]).\n\tsize mismatch for layer2.1.conv3.weight: copying a param with shape torch.Size([512, 128, 1, 1, 1]) from checkpoint, the shape in current model is torch.Size([512, 128, 1, 1]).\n\tsize mismatch for layer2.2.conv1.weight: copying a param with shape torch.Size([128, 512, 1, 1, 1]) from checkpoint, the shape in current model is torch.Size([128, 512, 1, 1]).\n\tsize mismatch for layer2.2.conv2.weight: copying a param with shape torch.Size([128, 128, 3, 3, 3]) from checkpoint, the shape in current model is torch.Size([128, 128, 3, 3]).\n\tsize mismatch for layer2.2.conv3.weight: copying a param with shape torch.Size([512, 128, 1, 1, 1]) from checkpoint, the shape in current model is torch.Size([512, 128, 1, 1]).\n\tsize mismatch for layer2.3.conv1.weight: copying a param with shape torch.Size([128, 512, 1, 1, 1]) from checkpoint, the shape in current model is torch.Size([128, 512, 1, 1]).\n\tsize mismatch for layer2.3.conv2.weight: copying a param with shape torch.Size([128, 128, 3, 3, 3]) from checkpoint, the shape in current model is torch.Size([128, 128, 3, 3]).\n\tsize mismatch for layer2.3.conv3.weight: copying a param with shape torch.Size([512, 128, 1, 1, 1]) from checkpoint, the shape in current model is torch.Size([512, 128, 1, 1]).\n\tsize mismatch for layer3.0.conv1.weight: copying a param with shape torch.Size([256, 512, 1, 1, 1]) from checkpoint, the shape in current model is torch.Size([256, 512, 1, 1]).\n\tsize mismatch for layer3.0.conv2.weight: copying a param with shape torch.Size([256, 256, 3, 3, 3]) from checkpoint, the shape in current model is torch.Size([256, 256, 3, 3]).\n\tsize mismatch for layer3.0.conv3.weight: copying a param with shape torch.Size([1024, 256, 1, 1, 1]) from checkpoint, the shape in current model is torch.Size([1024, 256, 1, 1]).\n\tsize mismatch for layer3.0.downsample.0.weight: copying a param with shape torch.Size([1024, 512, 1, 1, 1]) from checkpoint, the shape in current model is torch.Size([1024, 512, 1, 1]).\n\tsize mismatch for layer3.1.conv1.weight: copying a param with shape torch.Size([256, 1024, 1, 1, 1]) from checkpoint, the shape in current model is torch.Size([256, 1024, 1, 1]).\n\tsize mismatch for layer3.1.conv2.weight: copying a param with shape torch.Size([256, 256, 3, 3, 3]) from checkpoint, the shape in current model is torch.Size([256, 256, 3, 3]).\n\tsize mismatch for layer3.1.conv3.weight: copying a param with shape torch.Size([1024, 256, 1, 1, 1]) from checkpoint, the shape in current model is torch.Size([1024, 256, 1, 1]).\n\tsize mismatch for layer3.2.conv1.weight: copying a param with shape torch.Size([256, 1024, 1, 1, 1]) from checkpoint, the shape in current model is torch.Size([256, 1024, 1, 1]).\n\tsize mismatch for layer3.2.conv2.weight: copying a param with shape torch.Size([256, 256, 3, 3, 3]) from checkpoint, the shape in current model is torch.Size([256, 256, 3, 3]).\n\tsize mismatch for layer3.2.conv3.weight: copying a param with shape torch.Size([1024, 256, 1, 1, 1]) from checkpoint, the shape in current model is torch.Size([1024, 256, 1, 1]).\n\tsize mismatch for layer3.3.conv1.weight: copying a param with shape torch.Size([256, 1024, 1, 1, 1]) from checkpoint, the shape in current model is torch.Size([256, 1024, 1, 1]).\n\tsize mismatch for layer3.3.conv2.weight: copying a param with shape torch.Size([256, 256, 3, 3, 3]) from checkpoint, the shape in current model is torch.Size([256, 256, 3, 3]).\n\tsize mismatch for layer3.3.conv3.weight: copying a param with shape torch.Size([1024, 256, 1, 1, 1]) from checkpoint, the shape in current model is torch.Size([1024, 256, 1, 1]).\n\tsize mismatch for layer3.4.conv1.weight: copying a param with shape torch.Size([256, 1024, 1, 1, 1]) from checkpoint, the shape in current model is torch.Size([256, 1024, 1, 1]).\n\tsize mismatch for layer3.4.conv2.weight: copying a param with shape torch.Size([256, 256, 3, 3, 3]) from checkpoint, the shape in current model is torch.Size([256, 256, 3, 3]).\n\tsize mismatch for layer3.4.conv3.weight: copying a param with shape torch.Size([1024, 256, 1, 1, 1]) from checkpoint, the shape in current model is torch.Size([1024, 256, 1, 1]).\n\tsize mismatch for layer3.5.conv1.weight: copying a param with shape torch.Size([256, 1024, 1, 1, 1]) from checkpoint, the shape in current model is torch.Size([256, 1024, 1, 1]).\n\tsize mismatch for layer3.5.conv2.weight: copying a param with shape torch.Size([256, 256, 3, 3, 3]) from checkpoint, the shape in current model is torch.Size([256, 256, 3, 3]).\n\tsize mismatch for layer3.5.conv3.weight: copying a param with shape torch.Size([1024, 256, 1, 1, 1]) from checkpoint, the shape in current model is torch.Size([1024, 256, 1, 1]).\n\tsize mismatch for layer4.0.conv1.weight: copying a param with shape torch.Size([512, 1024, 1, 1, 1]) from checkpoint, the shape in current model is torch.Size([512, 1024, 1, 1]).\n\tsize mismatch for layer4.0.conv2.weight: copying a param with shape torch.Size([512, 512, 3, 3, 3]) from checkpoint, the shape in current model is torch.Size([512, 512, 3, 3]).\n\tsize mismatch for layer4.0.conv3.weight: copying a param with shape torch.Size([2048, 512, 1, 1, 1]) from checkpoint, the shape in current model is torch.Size([2048, 512, 1, 1]).\n\tsize mismatch for layer4.0.downsample.0.weight: copying a param with shape torch.Size([2048, 1024, 1, 1, 1]) from checkpoint, the shape in current model is torch.Size([2048, 1024, 1, 1]).\n\tsize mismatch for layer4.1.conv1.weight: copying a param with shape torch.Size([512, 2048, 1, 1, 1]) from checkpoint, the shape in current model is torch.Size([512, 2048, 1, 1]).\n\tsize mismatch for layer4.1.conv2.weight: copying a param with shape torch.Size([512, 512, 3, 3, 3]) from checkpoint, the shape in current model is torch.Size([512, 512, 3, 3]).\n\tsize mismatch for layer4.1.conv3.weight: copying a param with shape torch.Size([2048, 512, 1, 1, 1]) from checkpoint, the shape in current model is torch.Size([2048, 512, 1, 1]).\n\tsize mismatch for layer4.2.conv1.weight: copying a param with shape torch.Size([512, 2048, 1, 1, 1]) from checkpoint, the shape in current model is torch.Size([512, 2048, 1, 1]).\n\tsize mismatch for layer4.2.conv2.weight: copying a param with shape torch.Size([512, 512, 3, 3, 3]) from checkpoint, the shape in current model is torch.Size([512, 512, 3, 3]).\n\tsize mismatch for layer4.2.conv3.weight: copying a param with shape torch.Size([2048, 512, 1, 1, 1]) from checkpoint, the shape in current model is torch.Size([2048, 512, 1, 1]).",
     "output_type": "error",
     "traceback": [
      "\u001b[0;31m---------------------------------------------------------------------------\u001b[0m",
      "\u001b[0;31mRuntimeError\u001b[0m                              Traceback (most recent call last)",
      "Cell \u001b[0;32mIn[73], line 72\u001b[0m\n\u001b[1;32m     67\u001b[0m model_path \u001b[38;5;241m=\u001b[39m \u001b[38;5;124m'\u001b[39m\u001b[38;5;124mUsers/wangjiji/moments_v2_RGB_imagenet_resnet3d50_segment16.pth.tar\u001b[39m\u001b[38;5;124m'\u001b[39m  \u001b[38;5;66;03m# Update this path\u001b[39;00m\n\u001b[1;32m     68\u001b[0m label_file_path \u001b[38;5;241m=\u001b[39m  [\n\u001b[1;32m     69\u001b[0m     \u001b[38;5;124m'\u001b[39m\u001b[38;5;124m/Users/wangjiji/Desktop/moments_models-2/category_momentsv2.txt\u001b[39m\u001b[38;5;124m'\u001b[39m,\n\u001b[1;32m     70\u001b[0m     \u001b[38;5;124m'\u001b[39m\u001b[38;5;124m/Users/wangjiji/Desktop/moments_models-2/category_multi_momentsv2.txt\u001b[39m\u001b[38;5;124m'\u001b[39m\n\u001b[1;32m     71\u001b[0m ]\n\u001b[0;32m---> 72\u001b[0m model \u001b[38;5;241m=\u001b[39m load_model(model_path)\n\u001b[1;32m     73\u001b[0m labels \u001b[38;5;241m=\u001b[39m load_labels(label_file_path)\n\u001b[1;32m     75\u001b[0m \u001b[38;5;66;03m# Directory containing videos\u001b[39;00m\n",
      "Cell \u001b[0;32mIn[73], line 18\u001b[0m, in \u001b[0;36mload_model\u001b[0;34m(model_path)\u001b[0m\n\u001b[1;32m     16\u001b[0m num_ftrs \u001b[38;5;241m=\u001b[39m model\u001b[38;5;241m.\u001b[39mfc\u001b[38;5;241m.\u001b[39min_features\n\u001b[1;32m     17\u001b[0m model\u001b[38;5;241m.\u001b[39mfc \u001b[38;5;241m=\u001b[39m torch\u001b[38;5;241m.\u001b[39mnn\u001b[38;5;241m.\u001b[39mLinear(num_ftrs, \u001b[38;5;241m305\u001b[39m)  \u001b[38;5;66;03m# Adjust according to the number of classes\u001b[39;00m\n\u001b[0;32m---> 18\u001b[0m model\u001b[38;5;241m.\u001b[39mload_state_dict(torch\u001b[38;5;241m.\u001b[39mload(model_path)[\u001b[38;5;124m'\u001b[39m\u001b[38;5;124mstate_dict\u001b[39m\u001b[38;5;124m'\u001b[39m])\n\u001b[1;32m     19\u001b[0m model\u001b[38;5;241m.\u001b[39meval()\n\u001b[1;32m     20\u001b[0m \u001b[38;5;28;01mreturn\u001b[39;00m model\n",
      "File \u001b[0;32m~/anaconda3/lib/python3.11/site-packages/torch/nn/modules/module.py:2189\u001b[0m, in \u001b[0;36mModule.load_state_dict\u001b[0;34m(self, state_dict, strict, assign)\u001b[0m\n\u001b[1;32m   2184\u001b[0m         error_msgs\u001b[38;5;241m.\u001b[39minsert(\n\u001b[1;32m   2185\u001b[0m             \u001b[38;5;241m0\u001b[39m, \u001b[38;5;124m'\u001b[39m\u001b[38;5;124mMissing key(s) in state_dict: \u001b[39m\u001b[38;5;132;01m{}\u001b[39;00m\u001b[38;5;124m. \u001b[39m\u001b[38;5;124m'\u001b[39m\u001b[38;5;241m.\u001b[39mformat(\n\u001b[1;32m   2186\u001b[0m                 \u001b[38;5;124m'\u001b[39m\u001b[38;5;124m, \u001b[39m\u001b[38;5;124m'\u001b[39m\u001b[38;5;241m.\u001b[39mjoin(\u001b[38;5;124mf\u001b[39m\u001b[38;5;124m'\u001b[39m\u001b[38;5;124m\"\u001b[39m\u001b[38;5;132;01m{\u001b[39;00mk\u001b[38;5;132;01m}\u001b[39;00m\u001b[38;5;124m\"\u001b[39m\u001b[38;5;124m'\u001b[39m \u001b[38;5;28;01mfor\u001b[39;00m k \u001b[38;5;129;01min\u001b[39;00m missing_keys)))\n\u001b[1;32m   2188\u001b[0m \u001b[38;5;28;01mif\u001b[39;00m \u001b[38;5;28mlen\u001b[39m(error_msgs) \u001b[38;5;241m>\u001b[39m \u001b[38;5;241m0\u001b[39m:\n\u001b[0;32m-> 2189\u001b[0m     \u001b[38;5;28;01mraise\u001b[39;00m \u001b[38;5;167;01mRuntimeError\u001b[39;00m(\u001b[38;5;124m'\u001b[39m\u001b[38;5;124mError(s) in loading state_dict for \u001b[39m\u001b[38;5;132;01m{}\u001b[39;00m\u001b[38;5;124m:\u001b[39m\u001b[38;5;130;01m\\n\u001b[39;00m\u001b[38;5;130;01m\\t\u001b[39;00m\u001b[38;5;132;01m{}\u001b[39;00m\u001b[38;5;124m'\u001b[39m\u001b[38;5;241m.\u001b[39mformat(\n\u001b[1;32m   2190\u001b[0m                        \u001b[38;5;28mself\u001b[39m\u001b[38;5;241m.\u001b[39m\u001b[38;5;18m__class__\u001b[39m\u001b[38;5;241m.\u001b[39m\u001b[38;5;18m__name__\u001b[39m, \u001b[38;5;124m\"\u001b[39m\u001b[38;5;130;01m\\n\u001b[39;00m\u001b[38;5;130;01m\\t\u001b[39;00m\u001b[38;5;124m\"\u001b[39m\u001b[38;5;241m.\u001b[39mjoin(error_msgs)))\n\u001b[1;32m   2191\u001b[0m \u001b[38;5;28;01mreturn\u001b[39;00m _IncompatibleKeys(missing_keys, unexpected_keys)\n",
      "\u001b[0;31mRuntimeError\u001b[0m: Error(s) in loading state_dict for ResNet:\n\tMissing key(s) in state_dict: \"fc.weight\", \"fc.bias\". \n\tUnexpected key(s) in state_dict: \"last_linear.weight\", \"last_linear.bias\". \n\tsize mismatch for conv1.weight: copying a param with shape torch.Size([64, 3, 7, 7, 7]) from checkpoint, the shape in current model is torch.Size([64, 3, 7, 7]).\n\tsize mismatch for layer1.0.conv1.weight: copying a param with shape torch.Size([64, 64, 1, 1, 1]) from checkpoint, the shape in current model is torch.Size([64, 64, 1, 1]).\n\tsize mismatch for layer1.0.conv2.weight: copying a param with shape torch.Size([64, 64, 3, 3, 3]) from checkpoint, the shape in current model is torch.Size([64, 64, 3, 3]).\n\tsize mismatch for layer1.0.conv3.weight: copying a param with shape torch.Size([256, 64, 1, 1, 1]) from checkpoint, the shape in current model is torch.Size([256, 64, 1, 1]).\n\tsize mismatch for layer1.0.downsample.0.weight: copying a param with shape torch.Size([256, 64, 1, 1, 1]) from checkpoint, the shape in current model is torch.Size([256, 64, 1, 1]).\n\tsize mismatch for layer1.1.conv1.weight: copying a param with shape torch.Size([64, 256, 1, 1, 1]) from checkpoint, the shape in current model is torch.Size([64, 256, 1, 1]).\n\tsize mismatch for layer1.1.conv2.weight: copying a param with shape torch.Size([64, 64, 3, 3, 3]) from checkpoint, the shape in current model is torch.Size([64, 64, 3, 3]).\n\tsize mismatch for layer1.1.conv3.weight: copying a param with shape torch.Size([256, 64, 1, 1, 1]) from checkpoint, the shape in current model is torch.Size([256, 64, 1, 1]).\n\tsize mismatch for layer1.2.conv1.weight: copying a param with shape torch.Size([64, 256, 1, 1, 1]) from checkpoint, the shape in current model is torch.Size([64, 256, 1, 1]).\n\tsize mismatch for layer1.2.conv2.weight: copying a param with shape torch.Size([64, 64, 3, 3, 3]) from checkpoint, the shape in current model is torch.Size([64, 64, 3, 3]).\n\tsize mismatch for layer1.2.conv3.weight: copying a param with shape torch.Size([256, 64, 1, 1, 1]) from checkpoint, the shape in current model is torch.Size([256, 64, 1, 1]).\n\tsize mismatch for layer2.0.conv1.weight: copying a param with shape torch.Size([128, 256, 1, 1, 1]) from checkpoint, the shape in current model is torch.Size([128, 256, 1, 1]).\n\tsize mismatch for layer2.0.conv2.weight: copying a param with shape torch.Size([128, 128, 3, 3, 3]) from checkpoint, the shape in current model is torch.Size([128, 128, 3, 3]).\n\tsize mismatch for layer2.0.conv3.weight: copying a param with shape torch.Size([512, 128, 1, 1, 1]) from checkpoint, the shape in current model is torch.Size([512, 128, 1, 1]).\n\tsize mismatch for layer2.0.downsample.0.weight: copying a param with shape torch.Size([512, 256, 1, 1, 1]) from checkpoint, the shape in current model is torch.Size([512, 256, 1, 1]).\n\tsize mismatch for layer2.1.conv1.weight: copying a param with shape torch.Size([128, 512, 1, 1, 1]) from checkpoint, the shape in current model is torch.Size([128, 512, 1, 1]).\n\tsize mismatch for layer2.1.conv2.weight: copying a param with shape torch.Size([128, 128, 3, 3, 3]) from checkpoint, the shape in current model is torch.Size([128, 128, 3, 3]).\n\tsize mismatch for layer2.1.conv3.weight: copying a param with shape torch.Size([512, 128, 1, 1, 1]) from checkpoint, the shape in current model is torch.Size([512, 128, 1, 1]).\n\tsize mismatch for layer2.2.conv1.weight: copying a param with shape torch.Size([128, 512, 1, 1, 1]) from checkpoint, the shape in current model is torch.Size([128, 512, 1, 1]).\n\tsize mismatch for layer2.2.conv2.weight: copying a param with shape torch.Size([128, 128, 3, 3, 3]) from checkpoint, the shape in current model is torch.Size([128, 128, 3, 3]).\n\tsize mismatch for layer2.2.conv3.weight: copying a param with shape torch.Size([512, 128, 1, 1, 1]) from checkpoint, the shape in current model is torch.Size([512, 128, 1, 1]).\n\tsize mismatch for layer2.3.conv1.weight: copying a param with shape torch.Size([128, 512, 1, 1, 1]) from checkpoint, the shape in current model is torch.Size([128, 512, 1, 1]).\n\tsize mismatch for layer2.3.conv2.weight: copying a param with shape torch.Size([128, 128, 3, 3, 3]) from checkpoint, the shape in current model is torch.Size([128, 128, 3, 3]).\n\tsize mismatch for layer2.3.conv3.weight: copying a param with shape torch.Size([512, 128, 1, 1, 1]) from checkpoint, the shape in current model is torch.Size([512, 128, 1, 1]).\n\tsize mismatch for layer3.0.conv1.weight: copying a param with shape torch.Size([256, 512, 1, 1, 1]) from checkpoint, the shape in current model is torch.Size([256, 512, 1, 1]).\n\tsize mismatch for layer3.0.conv2.weight: copying a param with shape torch.Size([256, 256, 3, 3, 3]) from checkpoint, the shape in current model is torch.Size([256, 256, 3, 3]).\n\tsize mismatch for layer3.0.conv3.weight: copying a param with shape torch.Size([1024, 256, 1, 1, 1]) from checkpoint, the shape in current model is torch.Size([1024, 256, 1, 1]).\n\tsize mismatch for layer3.0.downsample.0.weight: copying a param with shape torch.Size([1024, 512, 1, 1, 1]) from checkpoint, the shape in current model is torch.Size([1024, 512, 1, 1]).\n\tsize mismatch for layer3.1.conv1.weight: copying a param with shape torch.Size([256, 1024, 1, 1, 1]) from checkpoint, the shape in current model is torch.Size([256, 1024, 1, 1]).\n\tsize mismatch for layer3.1.conv2.weight: copying a param with shape torch.Size([256, 256, 3, 3, 3]) from checkpoint, the shape in current model is torch.Size([256, 256, 3, 3]).\n\tsize mismatch for layer3.1.conv3.weight: copying a param with shape torch.Size([1024, 256, 1, 1, 1]) from checkpoint, the shape in current model is torch.Size([1024, 256, 1, 1]).\n\tsize mismatch for layer3.2.conv1.weight: copying a param with shape torch.Size([256, 1024, 1, 1, 1]) from checkpoint, the shape in current model is torch.Size([256, 1024, 1, 1]).\n\tsize mismatch for layer3.2.conv2.weight: copying a param with shape torch.Size([256, 256, 3, 3, 3]) from checkpoint, the shape in current model is torch.Size([256, 256, 3, 3]).\n\tsize mismatch for layer3.2.conv3.weight: copying a param with shape torch.Size([1024, 256, 1, 1, 1]) from checkpoint, the shape in current model is torch.Size([1024, 256, 1, 1]).\n\tsize mismatch for layer3.3.conv1.weight: copying a param with shape torch.Size([256, 1024, 1, 1, 1]) from checkpoint, the shape in current model is torch.Size([256, 1024, 1, 1]).\n\tsize mismatch for layer3.3.conv2.weight: copying a param with shape torch.Size([256, 256, 3, 3, 3]) from checkpoint, the shape in current model is torch.Size([256, 256, 3, 3]).\n\tsize mismatch for layer3.3.conv3.weight: copying a param with shape torch.Size([1024, 256, 1, 1, 1]) from checkpoint, the shape in current model is torch.Size([1024, 256, 1, 1]).\n\tsize mismatch for layer3.4.conv1.weight: copying a param with shape torch.Size([256, 1024, 1, 1, 1]) from checkpoint, the shape in current model is torch.Size([256, 1024, 1, 1]).\n\tsize mismatch for layer3.4.conv2.weight: copying a param with shape torch.Size([256, 256, 3, 3, 3]) from checkpoint, the shape in current model is torch.Size([256, 256, 3, 3]).\n\tsize mismatch for layer3.4.conv3.weight: copying a param with shape torch.Size([1024, 256, 1, 1, 1]) from checkpoint, the shape in current model is torch.Size([1024, 256, 1, 1]).\n\tsize mismatch for layer3.5.conv1.weight: copying a param with shape torch.Size([256, 1024, 1, 1, 1]) from checkpoint, the shape in current model is torch.Size([256, 1024, 1, 1]).\n\tsize mismatch for layer3.5.conv2.weight: copying a param with shape torch.Size([256, 256, 3, 3, 3]) from checkpoint, the shape in current model is torch.Size([256, 256, 3, 3]).\n\tsize mismatch for layer3.5.conv3.weight: copying a param with shape torch.Size([1024, 256, 1, 1, 1]) from checkpoint, the shape in current model is torch.Size([1024, 256, 1, 1]).\n\tsize mismatch for layer4.0.conv1.weight: copying a param with shape torch.Size([512, 1024, 1, 1, 1]) from checkpoint, the shape in current model is torch.Size([512, 1024, 1, 1]).\n\tsize mismatch for layer4.0.conv2.weight: copying a param with shape torch.Size([512, 512, 3, 3, 3]) from checkpoint, the shape in current model is torch.Size([512, 512, 3, 3]).\n\tsize mismatch for layer4.0.conv3.weight: copying a param with shape torch.Size([2048, 512, 1, 1, 1]) from checkpoint, the shape in current model is torch.Size([2048, 512, 1, 1]).\n\tsize mismatch for layer4.0.downsample.0.weight: copying a param with shape torch.Size([2048, 1024, 1, 1, 1]) from checkpoint, the shape in current model is torch.Size([2048, 1024, 1, 1]).\n\tsize mismatch for layer4.1.conv1.weight: copying a param with shape torch.Size([512, 2048, 1, 1, 1]) from checkpoint, the shape in current model is torch.Size([512, 2048, 1, 1]).\n\tsize mismatch for layer4.1.conv2.weight: copying a param with shape torch.Size([512, 512, 3, 3, 3]) from checkpoint, the shape in current model is torch.Size([512, 512, 3, 3]).\n\tsize mismatch for layer4.1.conv3.weight: copying a param with shape torch.Size([2048, 512, 1, 1, 1]) from checkpoint, the shape in current model is torch.Size([2048, 512, 1, 1]).\n\tsize mismatch for layer4.2.conv1.weight: copying a param with shape torch.Size([512, 2048, 1, 1, 1]) from checkpoint, the shape in current model is torch.Size([512, 2048, 1, 1]).\n\tsize mismatch for layer4.2.conv2.weight: copying a param with shape torch.Size([512, 512, 3, 3, 3]) from checkpoint, the shape in current model is torch.Size([512, 512, 3, 3]).\n\tsize mismatch for layer4.2.conv3.weight: copying a param with shape torch.Size([2048, 512, 1, 1, 1]) from checkpoint, the shape in current model is torch.Size([2048, 512, 1, 1])."
     ]
    }
   ],
   "source": [
    "import os\n",
    "import cv2\n",
    "import torch\n",
    "import torchvision.transforms as transforms\n",
    "from torch.utils.data import DataLoader, TensorDataset\n",
    "import numpy as np\n",
    "import pandas as pd\n",
    "import matplotlib.pyplot as plt\n",
    "import fvcore\n",
    "import pytorchvideo\n",
    "\n",
    "\n",
    "def load_model(model_path):\n",
    "    # Assuming model_path is correctly set to your pre-trained model\n",
    "    model = torch.hub.load('pytorch/vision:v0.10.0', 'resnet50', pretrained=False)\n",
    "    num_ftrs = model.fc.in_features\n",
    "    model.fc = torch.nn.Linear(num_ftrs, 305)  # Adjust according to the number of classes\n",
    "    model.load_state_dict(torch.load(model_path)['state_dict'])\n",
    "    model.eval()\n",
    "    return model\n",
    "\n",
    "def load_labels(label_files):\n",
    "    labels = {}\n",
    "    current_index = 0\n",
    "    for file_path in label_files:\n",
    "        with open(file_path, 'r') as file:\n",
    "            for line in file:\n",
    "                labels[current_index] = line.strip()\n",
    "                current_index += 1\n",
    "    return labels\n",
    "\n",
    "def video_to_tensor(video_path, sequence_length=16):\n",
    "    \"\"\"Extract sequences from a video file and convert them to tensor format.\"\"\"\n",
    "    cap = cv2.VideoCapture(video_path)\n",
    "    frames = []\n",
    "    while len(frames) < sequence_length and cap.isOpened():\n",
    "        ret, frame = cap.read()\n",
    "        if not ret:\n",
    "            break\n",
    "        frame = cv2.cvtColor(frame, cv2.COLOR_BGR2RGB)\n",
    "        frames.append(frame)\n",
    "    cap.release()\n",
    "\n",
    "    if len(frames) != sequence_length:\n",
    "        return None\n",
    "\n",
    "    transform = transforms.Compose([\n",
    "    transforms.ToPILImage(),\n",
    "    transforms.Resize((224, 224)),\n",
    "    transforms.ToTensor(),\n",
    "    transforms.Normalize(mean=[0.485, 0.456, 0.406], std=[0.229, 0.224, 0.225])\n",
    "])\n",
    "    \n",
    "    frame_tensors = torch.stack([transform(image) for image in frames])\n",
    "    frame_tensors = frame_tensors.unsqueeze(0)  # Add batch dimension\n",
    "    return frame_tensors\n",
    "\n",
    "def predict_video(model, video_tensor, labels):\n",
    "    \"\"\"Predict the label for a video tensor.\"\"\"\n",
    "    with torch.no_grad():\n",
    "        outputs = model(video_tensor)\n",
    "        _, predicted = torch.max(outputs, 1)\n",
    "        predicted_label = labels.get(predicted.item(), \"Unknown Label\")\n",
    "    return predicted_label\n",
    "\n",
    "# Initialize model and labels\n",
    "model_path = 'Users/wangjiji/moments_v2_RGB_imagenet_resnet3d50_segment16.pth.tar'  # Update this path\n",
    "label_file_path =  [\n",
    "    '/Users/wangjiji/Desktop/moments_models-2/category_momentsv2.txt',\n",
    "    '/Users/wangjiji/Desktop/moments_models-2/category_multi_momentsv2.txt'\n",
    "]\n",
    "model = load_model(model_path)\n",
    "labels = load_labels(label_file_path)\n",
    "\n",
    "# Directory containing videos\n",
    "video_directory = '/Users/wangjiji/Desktop/Social touch deep learning project/STMP4/'\n",
    "video_files = [f\"{i:03}.mp4\" for i in range(1, 72)]\n",
    "\n",
    "# Process videos and store predictions\n",
    "predictions = {}\n",
    "for video_file in video_files:\n",
    "    video_path = os.path.join(video_directory, video_file)\n",
    "    video_tensor = video_to_tensor(video_path)\n",
    "    if video_tensor is not None:\n",
    "        prediction = predict_video(model, video_tensor, labels)\n",
    "        predictions[video_file] = prediction\n",
    "    else:\n",
    "        print(f\"Skipped video {video_file}: insufficient frames\")\n",
    "\n",
    "# Save results to a CSV\n",
    "df = pd.DataFrame.from_dict(predictions, orient='index', columns=['Prediction'])\n",
    "df.to_csv('/path/to/output/predictions.csv')\n",
    "\n"
   ]
  },
  {
   "cell_type": "code",
   "execution_count": null,
   "metadata": {},
   "outputs": [],
   "source": []
  }
 ],
 "metadata": {
  "language_info": {
   "name": "python"
  }
 },
 "nbformat": 4,
 "nbformat_minor": 2
}
